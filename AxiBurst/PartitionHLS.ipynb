{
 "cells": [
  {
   "cell_type": "markdown",
   "metadata": {},
   "source": [
    "# Accelerating the Partition problem using HLS"
   ]
  },
  {
   "cell_type": "code",
   "execution_count": 367,
   "metadata": {},
   "outputs": [],
   "source": [
    "from pynq import Overlay\n",
    "from pynq import Xlnk\n",
    "import numpy as np\n",
    "\n",
    "ol=Overlay('AxiBurstFull.bit')\n",
    "sqrt_ip=ol.AxiBurst_0"
   ]
  },
  {
   "cell_type": "code",
   "execution_count": 481,
   "metadata": {},
   "outputs": [
    {
     "name": "stdout",
     "output_type": "stream",
     "text": [
      "Done!! total: 8.054302453994751\n"
     ]
    },
    {
     "data": {
      "text/plain": [
       "30"
      ]
     },
     "execution_count": 481,
     "metadata": {},
     "output_type": "execute_result"
    }
   ],
   "source": [
    "import time\n",
    "\n",
    "length=25\n",
    "numbers=[166,1,1,1,1,1,1,1,1,1,1,1,1,1,1,1,1,1,1,1,1,1,1,1,24]\n",
    "inpt=Xlnk().cma_array(shape=(length,),dtype=np.int32)\n",
    "np.copyto(inpt,numbers)\n",
    "start = time.time()\n",
    "sqrt_ip.write(0x18,inpt.physical_address)\n",
    "sqrt_ip.write(0x00,1)\n",
    "\n",
    "#Wait untill the result is ready in the memory. Sets the ap_idle to 1 when ready\n",
    "while sqrt_ip.read(0x00)!= 0x04:\n",
    "    pass\n",
    "\n",
    "end = time.time()\n",
    "print(\"Done!! total:\",end-start)\n",
    "sqrt_ip.read(0x10)\n"
   ]
  },
  {
   "cell_type": "code",
   "execution_count": 483,
   "metadata": {},
   "outputs": [
    {
     "data": {
      "text/plain": [
       "25"
      ]
     },
     "execution_count": 483,
     "metadata": {},
     "output_type": "execute_result"
    }
   ],
   "source": [
    "sqrt_ip.read(0x10)"
   ]
  },
  {
   "cell_type": "markdown",
   "metadata": {},
   "source": [
    "Implementation of the overlay in a function"
   ]
  },
  {
   "cell_type": "code",
   "execution_count": 488,
   "metadata": {},
   "outputs": [],
   "source": [
    "def CheckPartition(numbers): \n",
    "    length=25\n",
    "    inpt=Xlnk().cma_array(shape=(length,),dtype=np.int32)\n",
    "    np.copyto(inpt,numbers)\n",
    "    #sqrt_ip.write(0x18,length)\n",
    "    sqrt_ip.write(0x18,inpt.physical_address)\n",
    "    sqrt_ip.write(0x00,1)\n",
    "    while sqrt_ip.read(0x00)!= 0x04:\n",
    "        pass\n",
    "    return sqrt_ip.read(0x10)"
   ]
  },
  {
   "cell_type": "code",
   "execution_count": 489,
   "metadata": {},
   "outputs": [
    {
     "name": "stdout",
     "output_type": "stream",
     "text": [
      "25\n"
     ]
    }
   ],
   "source": [
    "numbers=[1,1,1,1,1,1,1,1,1,1,1,1,1,1,1,1,1,1,1,1,1,1,1,1,24]\n",
    "\n",
    "print(CheckPartition(numbers))\n",
    "    "
   ]
  },
  {
   "cell_type": "code",
   "execution_count": 452,
   "metadata": {},
   "outputs": [
    {
     "data": {
      "text/plain": [
       "25"
      ]
     },
     "execution_count": 452,
     "metadata": {},
     "output_type": "execute_result"
    }
   ],
   "source": []
  }
 ],
 "metadata": {
  "kernelspec": {
   "display_name": "Python 3",
   "language": "python",
   "name": "python3"
  },
  "language_info": {
   "codemirror_mode": {
    "name": "ipython",
    "version": 3
   },
   "file_extension": ".py",
   "mimetype": "text/x-python",
   "name": "python",
   "nbconvert_exporter": "python",
   "pygments_lexer": "ipython3",
   "version": "3.6.5"
  }
 },
 "nbformat": 4,
 "nbformat_minor": 2
}
