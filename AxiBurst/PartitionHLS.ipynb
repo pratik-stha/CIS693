{
 "cells": [
  {
   "cell_type": "markdown",
   "metadata": {},
   "source": [
    "# Accelerating the Partition problem using HLS"
   ]
  },
  {
   "cell_type": "markdown",
   "metadata": {},
   "source": [
    "The following Overlay has fixed array size of n = 25. The only input needed is the array"
   ]
  },
  {
   "cell_type": "code",
   "execution_count": 5,
   "metadata": {},
   "outputs": [],
   "source": [
    "from pynq import Overlay\n",
    "from pynq import Xlnk\n",
    "import numpy as np\n",
    "\n",
    "ol=Overlay('AxiBurst_wrapper.bit')\n",
    "sqrt_ip=ol.AxiBurst_0"
   ]
  },
  {
   "cell_type": "code",
   "execution_count": null,
   "metadata": {},
   "outputs": [],
   "source": [
    "import time\n",
    "\n",
    "length=25\n",
    "numbers=[166,1,1,1,1,1,1,1,1,1,1,1,1,1,1,1,1,1,1,1,1,1,1,1,24]\n",
    "inpt=Xlnk().cma_array(shape=(length,),dtype=np.int32)\n",
    "np.copyto(inpt,numbers)\n",
    "start = time.time()\n",
    "sqrt_ip.write(0x18,inpt.physical_address)\n",
    "sqrt_ip.write(0x00,1)\n",
    "\n",
    "#Wait untill the result is ready in the memory. Sets the ap_idle to 1 when ready\n",
    "while sqrt_ip.read(0x00)!= 0x04:\n",
    "    pass\n",
    "\n",
    "end = time.time()\n",
    "print(\"Done!! total:\",end-start)\n",
    "sqrt_ip.read(0x10)\n"
   ]
  },
  {
   "cell_type": "code",
   "execution_count": 483,
   "metadata": {},
   "outputs": [
    {
     "data": {
      "text/plain": [
       "25"
      ]
     },
     "execution_count": 483,
     "metadata": {},
     "output_type": "execute_result"
    }
   ],
   "source": [
    "sqrt_ip.read(0x10)"
   ]
  },
  {
   "cell_type": "markdown",
   "metadata": {},
   "source": [
    "Implementation of the overlay in a function"
   ]
  },
  {
   "cell_type": "code",
   "execution_count": 3,
   "metadata": {},
   "outputs": [],
   "source": [
    "def CheckPartition(numbers): \n",
    "    length=25\n",
    "    inpt=Xlnk().cma_array(shape=(length,),dtype=np.int32)\n",
    "    np.copyto(inpt,numbers)\n",
    "    #sqrt_ip.write(0x18,length)\n",
    "    sqrt_ip.write(0x18,inpt.physical_address)\n",
    "    sqrt_ip.write(0x00,1)\n",
    "    while sqrt_ip.read(0x00)!= 0x04:\n",
    "        pass\n",
    "    return sqrt_ip.read(0x10)"
   ]
  },
  {
   "cell_type": "code",
   "execution_count": 4,
   "metadata": {},
   "outputs": [
    {
     "name": "stdout",
     "output_type": "stream",
     "text": [
      "25\n",
      "8.057125091552734\n"
     ]
    }
   ],
   "source": [
    "numbers=[1,1,1,1,1,1,1,1,1,1,1,1,1,1,1,1,1,1,1,1,1,1,1,1,24]\n",
    "import time\n",
    "start= time.time()\n",
    "print(CheckPartition(numbers))\n",
    "end = time.time()\n",
    "total = end-start\n",
    "print(total)"
   ]
  },
  {
   "cell_type": "markdown",
   "metadata": {},
   "source": [
    "## The Overlay AxibBurstN consists of array input as well as total numbers in the array 'n'"
   ]
  },
  {
   "cell_type": "code",
   "execution_count": 1,
   "metadata": {},
   "outputs": [
    {
     "data": {
      "application/javascript": [
       "\n",
       "require(['notebook/js/codecell'], function(codecell) {\n",
       "  codecell.CodeCell.options_default.highlight_modes[\n",
       "      'magic_text/x-csrc'] = {'reg':[/^%%microblaze/]};\n",
       "  Jupyter.notebook.events.one('kernel_ready.Kernel', function(){\n",
       "      Jupyter.notebook.get_cells().map(function(cell){\n",
       "          if (cell.cell_type == 'code'){ cell.auto_highlight(); } }) ;\n",
       "  });\n",
       "});\n"
      ]
     },
     "metadata": {},
     "output_type": "display_data"
    }
   ],
   "source": [
    "from pynq import Overlay\n",
    "from pynq import Xlnk\n",
    "import numpy as np\n",
    "\n",
    "ol=Overlay('AxiBurstN.bit')\n",
    "sqrt_ip=ol.AxiBurst_0"
   ]
  },
  {
   "cell_type": "code",
   "execution_count": 10,
   "metadata": {},
   "outputs": [
    {
     "name": "stdout",
     "output_type": "stream",
     "text": [
      "Done!! total: 15.03395414352417\n"
     ]
    },
    {
     "data": {
      "text/plain": [
       "0"
      ]
     },
     "execution_count": 10,
     "metadata": {},
     "output_type": "execute_result"
    }
   ],
   "source": [
    "import time\n",
    "\n",
    "length=25\n",
    "numbers=[1,1,1,1,1,1,1,1,1,1,1,1,1,1,1,1,1,24,1,1,1,1,100,1,1]\n",
    "inpt=Xlnk().cma_array(shape=(length,),dtype=np.int32)\n",
    "np.copyto(inpt,numbers)\n",
    "start = time.time()\n",
    "sqrt_ip.write(0x20,inpt.physical_address)\n",
    "\n",
    "sqrt_ip.write(0x18,length)\n",
    "sqrt_ip.write(0x00,1)\n",
    "\n",
    "#Wait untill the result is ready in the memory. Sets the ap_idle to 1 when ready\n",
    "while sqrt_ip.read(0x00)!= 0x04:\n",
    "    pass\n",
    "\n",
    "end = time.time()\n",
    "print(\"Done!! total:\",end-start)\n",
    "sqrt_ip.read(0x10)"
   ]
  }
 ],
 "metadata": {
  "kernelspec": {
   "display_name": "Python 3",
   "language": "python",
   "name": "python3"
  },
  "language_info": {
   "codemirror_mode": {
    "name": "ipython",
    "version": 3
   },
   "file_extension": ".py",
   "mimetype": "text/x-python",
   "name": "python",
   "nbconvert_exporter": "python",
   "pygments_lexer": "ipython3",
   "version": "3.6.5"
  }
 },
 "nbformat": 4,
 "nbformat_minor": 2
}
