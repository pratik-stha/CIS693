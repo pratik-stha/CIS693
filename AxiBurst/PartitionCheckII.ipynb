{
 "cells": [
  {
   "cell_type": "markdown",
   "metadata": {},
   "source": [
    "## The overlay here uses a single Array as a input and produces 1 or 0 as output. The first element, 'n', of array indicates total number in the array."
   ]
  },
  {
   "cell_type": "code",
   "execution_count": 29,
   "metadata": {},
   "outputs": [],
   "source": [
    "from pynq import Overlay\n",
    "from pynq import Xlnk\n",
    "import numpy as np\n",
    "\n",
    "ol=Overlay('PartitionCheckII.bit')\n",
    "sqrt_ip=ol.PartitionCheckII_0"
   ]
  },
  {
   "cell_type": "code",
   "execution_count": 43,
   "metadata": {},
   "outputs": [
    {
     "name": "stdout",
     "output_type": "stream",
     "text": [
      "Done!! total: 15.033666849136353\n"
     ]
    },
    {
     "data": {
      "text/plain": [
       "1"
      ]
     },
     "execution_count": 43,
     "metadata": {},
     "output_type": "execute_result"
    }
   ],
   "source": [
    "import time\n",
    "\n",
    "\n",
    "numbers=[25,1,1,1,1,1,1,1,1,1,1,1,1,1,1,1,1,1,1,1,1,1,1,1,1,24]\n",
    "length=len(numbers)\n",
    "inpt=Xlnk().cma_array(shape=(length,),dtype=np.int32)\n",
    "np.copyto(inpt,numbers)\n",
    "start = time.time()\n",
    "sqrt_ip.write(0x18,inpt.physical_address)\n",
    "\n",
    "##sqrt_ip.write(0x18,length)\n",
    "sqrt_ip.write(0x00,1)\n",
    "\n",
    "#Wait untill the result is ready in the memory. Sets the ap_idle to 1 when ready\n",
    "while sqrt_ip.read(0x00)!= 0x04:\n",
    "    pass\n",
    "\n",
    "end = time.time()\n",
    "print(\"Done!! total:\",end-start)\n",
    "sqrt_ip.read(0x10)"
   ]
  },
  {
   "cell_type": "code",
   "execution_count": 44,
   "metadata": {},
   "outputs": [],
   "source": [
    "def CheckPartition(numbers): \n",
    "    length=len(numbers)\n",
    "    inpt=Xlnk().cma_array(shape=(length,),dtype=np.int32)\n",
    "    np.copyto(inpt,numbers)\n",
    "    #sqrt_ip.write(0x18,length)\n",
    "    sqrt_ip.write(0x18,inpt.physical_address)\n",
    "    sqrt_ip.write(0x00,1)\n",
    "    while sqrt_ip.read(0x00)!= 0x04:\n",
    "        pass\n",
    "    return sqrt_ip.read(0x10)"
   ]
  },
  {
   "cell_type": "code",
   "execution_count": null,
   "metadata": {},
   "outputs": [],
   "source": []
  }
 ],
 "metadata": {
  "kernelspec": {
   "display_name": "Python 3",
   "language": "python",
   "name": "python3"
  },
  "language_info": {
   "codemirror_mode": {
    "name": "ipython",
    "version": 3
   },
   "file_extension": ".py",
   "mimetype": "text/x-python",
   "name": "python",
   "nbconvert_exporter": "python",
   "pygments_lexer": "ipython3",
   "version": "3.6.5"
  }
 },
 "nbformat": 4,
 "nbformat_minor": 2
}
