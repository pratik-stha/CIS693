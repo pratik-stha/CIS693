{
 "cells": [
  {
   "cell_type": "code",
   "execution_count": null,
   "metadata": {},
   "outputs": [],
   "source": [
    "from pynq import Overlay\n",
    "from pynq import Xlnk\n",
    "import numpy as np\n",
    "\n",
    "ol=Overlay('AxiBurst.bit')\n",
    "sqrt_ip=ol.AxiBurst_0\n",
    "\n",
    "length=100\n",
    "inpt=Xlnk().cma_array(shape=(length,),dtype=np.float32)\n",
    "outpt=Xlnk().cma_array(shape=(length,),dtype=np.float32)\n",
    "a=[i*i for i in range(length)]\n",
    "\n",
    "np.copyto(inpt,a)\n",
    "soft_op=np.sqrt(inpt)\n",
    "\n",
    "sqrt_ip.write(0x20,length)\n",
    "sqrt_ip.write(0x10,inpt.physical_address)\n",
    "sqrt_ip.write(0x18,outpt.physical_address)\n",
    "sqrt_ip.write(0x00,1)\n",
    "\n",
    "print(\"Hardware Output\",\"Software Output \\n\")\n",
    "for i in range(length):\n",
    "    print(outpt[i],\"\\t\\t  \",soft_op[i])"
   ]
  },
  {
   "cell_type": "code",
   "execution_count": 33,
   "metadata": {},
   "outputs": [],
   "source": [
    "from pynq import Overlay\n",
    "from pynq import Xlnk\n",
    "import numpy as np\n",
    "\n",
    "ol=Overlay('AxiBurst_Partition.bit')\n",
    "sqrt_ip=ol.AxiBurst_0"
   ]
  },
  {
   "cell_type": "code",
   "execution_count": 36,
   "metadata": {},
   "outputs": [],
   "source": [
    "length=4\n",
    "a=[1,2,2,1]\n",
    "value = 3\n",
    "inpt=Xlnk().cma_array(shape=(length,),dtype=np.int32)\n",
    "np.copyto(inpt,a)\n",
    "sqrt_ip.write(0x20,length)\n",
    "sqrt_ip.write(0x28,inpt.physical_address)\n",
    "sqrt_ip.write(0x18,value)\n",
    "sqrt_ip.write(0x00,1)\n"
   ]
  },
  {
   "cell_type": "code",
   "execution_count": 37,
   "metadata": {},
   "outputs": [
    {
     "data": {
      "text/plain": [
       "1"
      ]
     },
     "execution_count": 37,
     "metadata": {},
     "output_type": "execute_result"
    }
   ],
   "source": [
    "sqrt_ip.read(0x10)"
   ]
  },
  {
   "cell_type": "code",
   "execution_count": 59,
   "metadata": {},
   "outputs": [],
   "source": [
    "\n",
    "def CheckPartition(value,length,numbers):\n",
    "    inpt=Xlnk().cma_array(shape=(length,),dtype=np.int32)\n",
    "    np.copyto(inpt,numbers)\n",
    "    sqrt_ip.write(0x20,length)\n",
    "    sqrt_ip.write(0x28,inpt.physical_address)\n",
    "    sqrt_ip.write(0x18,value)\n",
    "    sqrt_ip.write(0x00,1)\n",
    "    \n",
    "    return sqrt_ip.read(0x10)\n",
    "    "
   ]
  },
  {
   "cell_type": "code",
   "execution_count": 61,
   "metadata": {},
   "outputs": [
    {
     "name": "stdout",
     "output_type": "stream",
     "text": [
      "1\n",
      "0.005513906478881836\n"
     ]
    }
   ],
   "source": [
    "import time \n",
    "start = time.time()\n",
    "print (CheckPartition(3,4,[1,2,2,1]))\n",
    "end = time.time()\n",
    "total = end-start\n",
    "print (total)"
   ]
  },
  {
   "cell_type": "code",
   "execution_count": 62,
   "metadata": {},
   "outputs": [
    {
     "name": "stdout",
     "output_type": "stream",
     "text": [
      "Solution found!\n",
      "Decimal code: \n",
      "32767\n"
     ]
    }
   ],
   "source": [
    "n=16\n",
    "values=[1,1,1,1,1,1,1,1,1,1,1,1,1,1,1,15]\n",
    "twoToN = pow(2,(n-1)) \n",
    "#print(twoToN)\n",
    "found = False\n",
    "for x in range(twoToN):\n",
    "    result = CheckPartition(x,n,values)\n",
    "    if result:\n",
    "        print('Solution found!\\nDecimal code: ')\n",
    "        print(x)\n",
    "        found = True\n",
    "        break\n",
    "\n",
    "if not found:\n",
    "    print('Solution not found.')\n",
    "\n"
   ]
  },
  {
   "cell_type": "code",
   "execution_count": null,
   "metadata": {},
   "outputs": [],
   "source": []
  }
 ],
 "metadata": {
  "kernelspec": {
   "display_name": "Python 3",
   "language": "python",
   "name": "python3"
  },
  "language_info": {
   "codemirror_mode": {
    "name": "ipython",
    "version": 3
   },
   "file_extension": ".py",
   "mimetype": "text/x-python",
   "name": "python",
   "nbconvert_exporter": "python",
   "pygments_lexer": "ipython3",
   "version": "3.6.5"
  }
 },
 "nbformat": 4,
 "nbformat_minor": 2
}
