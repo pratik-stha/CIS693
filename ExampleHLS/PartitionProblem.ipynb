{
 "cells": [
  {
   "cell_type": "code",
   "execution_count": 6,
   "metadata": {},
   "outputs": [
    {
     "name": "stdout",
     "output_type": "stream",
     "text": [
      "Enter the value of n: 4\n",
      "Enter the n numbers: \n",
      "1\n",
      "3\n",
      "1\n",
      "1\n",
      "Solution not found.\n",
      "Solution not found.\n",
      "Solution found!\n",
      "Decimal code: \n",
      "2\n"
     ]
    }
   ],
   "source": [
    "\n",
    "# main\n",
    "# read n\n",
    "#n = int(input(\"How large is the instance of the partition problem (positive integer\\n)\"))\n",
    "n = int(input(\"Enter the value of n: \"))\n",
    "print(\"Enter the n numbers: \")\n",
    "values = []\n",
    "for i in range(n):\n",
    "# value = int(input(\"Enter a value: \"))\n",
    "    value = int(input(\"\"))\n",
    "    values.append(value)\n",
    "\n",
    "\n",
    "twoToN = pow(2,(n-1)) \n",
    "#print(twoToN)\n",
    "found = False\n",
    "for x in range(twoToN):\n",
    "    result = check(x,n,values)\n",
    "    if result:\n",
    "        print('Solution found!\\nDecimal code: ')\n",
    "        print(x)\n",
    "        found = True\n",
    "        break\n",
    "\n",
    "    if not found:\n",
    "        print('Solution not found.')"
   ]
  },
  {
   "cell_type": "code",
   "execution_count": 2,
   "metadata": {},
   "outputs": [],
   "source": [
    "\n",
    "#\n",
    "# Check if the integer x encodes a solution to the partition problem\n",
    "#\n",
    "def check(x,n,values):\n",
    "    mask = 1\n",
    "    sum0s = 0\n",
    "    sum1s = 0\n",
    "    for i in range(n):\n",
    "        if mask & x != 0:\n",
    "            sum1s = sum1s + values[i]\n",
    "        else:\n",
    "            sum0s = sum0s + values[i]\n",
    "        mask = mask*2\n",
    "\n",
    "    if sum0s == sum1s:\n",
    "        return True\n",
    "    else:\n",
    "        return False \n",
    "\n"
   ]
  },
  {
   "cell_type": "code",
   "execution_count": 5,
   "metadata": {},
   "outputs": [
    {
     "name": "stdout",
     "output_type": "stream",
     "text": [
      "True\n",
      "0.004872322082519531\n"
     ]
    }
   ],
   "source": [
    "import time\n",
    "\n",
    "start_time=time.time() \n",
    "print(check(7,4,[1,1,1,3]))\n",
    "end_time = time.time()\n",
    "exec_time = end_time-start_time\n",
    "print(exec_time)"
   ]
  }
 ],
 "metadata": {
  "kernelspec": {
   "display_name": "Python 3",
   "language": "python",
   "name": "python3"
  },
  "language_info": {
   "codemirror_mode": {
    "name": "ipython",
    "version": 3
   },
   "file_extension": ".py",
   "mimetype": "text/x-python",
   "name": "python",
   "nbconvert_exporter": "python",
   "pygments_lexer": "ipython3",
   "version": "3.6.5"
  }
 },
 "nbformat": 4,
 "nbformat_minor": 2
}
