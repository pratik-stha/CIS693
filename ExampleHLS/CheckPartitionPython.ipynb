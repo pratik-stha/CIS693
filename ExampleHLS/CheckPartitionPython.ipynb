{
 "cells": [
  {
   "cell_type": "code",
   "execution_count": 2,
   "metadata": {},
   "outputs": [
    {
     "data": {
      "application/javascript": [
       "\n",
       "require(['notebook/js/codecell'], function(codecell) {\n",
       "  codecell.CodeCell.options_default.highlight_modes[\n",
       "      'magic_text/x-csrc'] = {'reg':[/^%%microblaze/]};\n",
       "  Jupyter.notebook.events.one('kernel_ready.Kernel', function(){\n",
       "      Jupyter.notebook.get_cells().map(function(cell){\n",
       "          if (cell.cell_type == 'code'){ cell.auto_highlight(); } }) ;\n",
       "  });\n",
       "});\n"
      ]
     },
     "metadata": {},
     "output_type": "display_data"
    }
   ],
   "source": [
    "from pynq import Overlay\n",
    "\n",
    "overlay = Overlay('/home/xilinx/jupyter_notebooks/ExampleHLS/check_partition.bit')"
   ]
  },
  {
   "cell_type": "code",
   "execution_count": 3,
   "metadata": {},
   "outputs": [],
   "source": [
    "overlay?\n"
   ]
  },
  {
   "cell_type": "code",
   "execution_count": 4,
   "metadata": {},
   "outputs": [],
   "source": [
    "check_ip = overlay.CheckPartition_0"
   ]
  },
  {
   "cell_type": "code",
   "execution_count": 5,
   "metadata": {},
   "outputs": [
    {
     "data": {
      "text/plain": [
       "1"
      ]
     },
     "execution_count": 5,
     "metadata": {},
     "output_type": "execute_result"
    }
   ],
   "source": [
    "check_ip.write(0x20,1)\n",
    "check_ip.write(0x24,2)\n",
    "check_ip.write(0x28,2)\n",
    "check_ip.write(0x2C,1)\n",
    "\n",
    "check_ip.write(0x10,3) # 0x10 value\n",
    "check_ip.write(0x18,4) # 0x18 n \n",
    "\n",
    "check_ip.read(0x30) # result"
   ]
  },
  {
   "cell_type": "code",
   "execution_count": 6,
   "metadata": {},
   "outputs": [],
   "source": [
    "def CheckPartition(value,n,array):\n",
    "    StartAddress=0x1C\n",
    "    address = int(StartAddress)  # decimal d\n",
    "    ValueAddress=0x10\n",
    "    nAddress=0x18\n",
    "    \n",
    "    for x in range(4):\n",
    "        val= address+4;\n",
    "        address=address+4;\n",
    "        check_ip.write(address,array[x])\n",
    "            \n",
    "    check_ip.write(ValueAddress,value) # 0x10 value\n",
    "    check_ip.write(nAddress,n) # 0x18 n \n",
    "    return check_ip.read(0x30)\n",
    "\n",
    "        "
   ]
  },
  {
   "cell_type": "code",
   "execution_count": 22,
   "metadata": {},
   "outputs": [
    {
     "name": "stdout",
     "output_type": "stream",
     "text": [
      "1\n",
      "0.0016951560974121094\n"
     ]
    }
   ],
   "source": [
    "import time\n",
    "\n",
    "array=[1,1,1,3]\n",
    "start_time = time.time()\n",
    "print(CheckPartition(7,4,array))\n",
    "end_time = time.time()\n",
    "\n",
    "exec_time = end_time - start_time\n",
    "print(exec_time)\n"
   ]
  },
  {
   "cell_type": "code",
   "execution_count": 27,
   "metadata": {},
   "outputs": [
    {
     "name": "stdout",
     "output_type": "stream",
     "text": [
      "Enter the value of n: 5\n",
      "Enter the n numbers: \n",
      "1\n",
      "1\n",
      "1\n",
      "1\n",
      "4\n",
      "Solution not found.\n",
      "Solution not found.\n",
      "Solution not found.\n",
      "Solution not found.\n",
      "Solution not found.\n",
      "Solution not found.\n",
      "Solution not found.\n",
      "Solution not found.\n",
      "Solution not found.\n",
      "Solution not found.\n",
      "Solution not found.\n",
      "Solution not found.\n",
      "Solution not found.\n",
      "Solution not found.\n",
      "Solution not found.\n",
      "Solution not found.\n"
     ]
    }
   ],
   "source": [
    "\n",
    "# main\n",
    "# read n\n",
    "n = int(input(\"Enter the value of n: \"))\n",
    "print(\"Enter the n numbers: \")\n",
    "values = []\n",
    "for i in range(n):\n",
    "# value = int(input(\"Enter a value: \"))\n",
    "    value = int(input(\"\"))\n",
    "    values.append(value)\n",
    "\n",
    "\n",
    "twoToN = pow(2,(n-1)) \n",
    "#print(twoToN)\n",
    "found = 0\n",
    "for x in range(twoToN):\n",
    "    result = CheckPartition(x,n,values)\n",
    "    if result:\n",
    "        print('Solution found!\\nDecimal code: ')\n",
    "        print(x)\n",
    "        found = 1\n",
    "        break\n",
    "\n",
    "    if not found:\n",
    "        print('Solution not found.')\n",
    "\n"
   ]
  },
  {
   "cell_type": "code",
   "execution_count": null,
   "metadata": {},
   "outputs": [],
   "source": []
  },
  {
   "cell_type": "markdown",
   "metadata": {},
   "source": [
    "#### "
   ]
  }
 ],
 "metadata": {
  "kernelspec": {
   "display_name": "Python 3",
   "language": "python",
   "name": "python3"
  },
  "language_info": {
   "codemirror_mode": {
    "name": "ipython",
    "version": 3
   },
   "file_extension": ".py",
   "mimetype": "text/x-python",
   "name": "python",
   "nbconvert_exporter": "python",
   "pygments_lexer": "ipython3",
   "version": "3.6.5"
  }
 },
 "nbformat": 4,
 "nbformat_minor": 2
}
